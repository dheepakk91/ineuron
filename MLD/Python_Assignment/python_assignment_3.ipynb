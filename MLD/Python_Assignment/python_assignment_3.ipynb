{
 "cells": [
  {
   "cell_type": "markdown",
   "metadata": {},
   "source": [
    "1.1 Write a Python Program to implement your own myreduce() function which works exactly like\n",
    "Python's built-in function reduce()\n"
   ]
  },
  {
   "cell_type": "code",
   "execution_count": 4,
   "metadata": {},
   "outputs": [],
   "source": [
    "def mult(x,y):\n",
    "     return x*y\n",
    "\n",
    "def add(x,y):\n",
    "     return x+y\n",
    "\n",
    "def myreduce(func,input_obj):\n",
    "    type_check=type(input_obj)\n",
    "    \n",
    "    if type_check==list or type_check==tuple:\n",
    "        first=input_obj[0]\n",
    "        loop_obj=input_obj[1:]\n",
    "    elif type_check==set:\n",
    "        first=input_obj.pop()\n",
    "        loop_obj=input_obj\n",
    "    elif type_check==dict:\n",
    "        #Dictionary as an iterable to reduce() does the operation only on the keys\n",
    "        first=list(input_obj.keys())[0]\n",
    "        loop_obj=list(input_obj.keys())[1:]\n",
    "    \n",
    "    for i in loop_obj:\n",
    "        try:\n",
    "            first=func(first,i)\n",
    "        except:\n",
    "            print(\"Type Error! Please check the elements\")\n",
    "            return None \n",
    "    return first"
   ]
  },
  {
   "cell_type": "code",
   "execution_count": 5,
   "metadata": {},
   "outputs": [
    {
     "data": {
      "text/plain": [
       "12"
      ]
     },
     "execution_count": 5,
     "metadata": {},
     "output_type": "execute_result"
    }
   ],
   "source": [
    "myreduce(mult,(1,2,6))"
   ]
  },
  {
   "cell_type": "code",
   "execution_count": 6,
   "metadata": {},
   "outputs": [
    {
     "data": {
      "text/plain": [
       "8"
      ]
     },
     "execution_count": 6,
     "metadata": {},
     "output_type": "execute_result"
    }
   ],
   "source": [
    "myreduce(add,{1:2,3:10,4:'ad'})"
   ]
  },
  {
   "cell_type": "markdown",
   "metadata": {},
   "source": [
    "1.2 Write a Python program to implement your own myfilter() function which works exactly like\n",
    "Python's built-in function filter()\n"
   ]
  },
  {
   "cell_type": "code",
   "execution_count": 7,
   "metadata": {},
   "outputs": [],
   "source": [
    "def mult(x,y):\n",
    "     return x*y\n",
    "\n",
    "def even_no(x):\n",
    "    if x%2==0:\n",
    "        return True\n",
    "    else:\n",
    "        return False\n",
    "\n",
    "def myfilter(filter_obj,input_obj):\n",
    "    return_list=[]\n",
    "    if callable(filter_obj):\n",
    "        for i in input_obj:\n",
    "            if filter_obj(i):\n",
    "                return_list.append(i)\n",
    "    else:\n",
    "        for i in input_obj:\n",
    "            if i in filter_obj:\n",
    "                return_list.append(i)      \n",
    "    \n",
    "    return return_list"
   ]
  },
  {
   "cell_type": "code",
   "execution_count": 8,
   "metadata": {},
   "outputs": [
    {
     "name": "stdout",
     "output_type": "stream",
     "text": [
      "[1, 2, 2]\n"
     ]
    }
   ],
   "source": [
    "print(myfilter([1,2],[1,2,3,4,2]))"
   ]
  },
  {
   "cell_type": "markdown",
   "metadata": {},
   "source": [
    "2. Implement List comprehensions to produce the following lists.\n",
    "     Write List comprehensions to produce the following Lists\n",
    "       ['x', 'xx', 'xxx', 'xxxx', 'y', 'yy', 'yyy', 'yyyy', 'z', 'zz', 'zzz', 'zzzz']\n",
    "       ['x', 'y', 'z', 'xx', 'yy', 'zz', 'xx', 'yy', 'zz', 'xxxx', 'yyyy', 'zzzz']\n",
    "       [[2], [3], [4], [3], [4], [5], [4], [5], [6]]\n",
    "       [[2, 3, 4, 5], [3, 4, 5, 6], [4, 5, 6, 7], [5, 6, 7, 8]]\n",
    "       [(1, 1), (2, 1), (3, 1), (1, 2), (2, 2), (3, 2), (1, 3), (2, 3), (3, 3)]"
   ]
  },
  {
   "cell_type": "code",
   "execution_count": 9,
   "metadata": {},
   "outputs": [
    {
     "name": "stdout",
     "output_type": "stream",
     "text": [
      "['x', 'xx', 'xxx', 'xxxx', 'y', 'yy', 'yyy', 'yyyy', 'z', 'zz', 'zzz', 'zzzz']\n",
      "['x', 'y', 'z', 'xx', 'yy', 'zz', 'xxx', 'yyy', 'zzz', 'xxxx', 'yyyy', 'zzzz']\n",
      "[[2], [3], [4], [3], [4], [5], [4], [5], [6]]\n",
      "[[2, 3, 4, 5], [3, 4, 5, 6], [4, 5, 6, 7], [5, 6, 7, 8]]\n",
      "[(1, 1), (2, 1), (3, 1), (1, 2), (2, 2), (3, 2), (1, 3), (2, 3), (3, 3)]\n"
     ]
    }
   ],
   "source": [
    "print([c*i for i in 'xyz' for c in range(1,5)])\n",
    "print([c*i for i in range(1,5) for c in 'xyz'])\n",
    "print([[c+i] for i in range(0,3) for c in range(2,5)])\n",
    "print([[c+i for i in range(0,4)] for c in range(2,6)])\n",
    "print([(c,i) for i in range(1,4) for c in range(1,4)])"
   ]
  }
 ],
 "metadata": {
  "kernelspec": {
   "display_name": "Python 3",
   "language": "python",
   "name": "python3"
  },
  "language_info": {
   "codemirror_mode": {
    "name": "ipython",
    "version": 3
   },
   "file_extension": ".py",
   "mimetype": "text/x-python",
   "name": "python",
   "nbconvert_exporter": "python",
   "pygments_lexer": "ipython3",
   "version": "3.6.5"
  }
 },
 "nbformat": 4,
 "nbformat_minor": 2
}
